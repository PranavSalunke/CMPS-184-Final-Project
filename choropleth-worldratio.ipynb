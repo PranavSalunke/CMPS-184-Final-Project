{
 "cells": [
  {
   "cell_type": "code",
   "execution_count": 4,
   "metadata": {},
   "outputs": [],
   "source": [
    "# %load topxpercent.py\n",
    "import pandas\n",
    "import re\n",
    "import os\n",
    "import matplotlib.pyplot as plt\n",
    "import imageio\n",
    "import shutil\n",
    "\n",
    "# the top locations that make up targetPercent of the worlds population for the given year\n",
    "# data taken from the given file ('assumed to be the output of the reformated population data)\n",
    "# populations are in thousands\n",
    "\n",
    "\n",
    "def saveGraphCumulative(totals, filename, meta):\n",
    "    variant, year, percent = meta\n",
    "\n",
    "    plt.xticks(rotation=90)\n",
    "    plt.title(\"%s, %s | %s of total\" % (variant, year, str(percent)+\"%\"))\n",
    "    plt.plot(totals[\"Location\"], totals[\"CumPercent\"])\n",
    "    plt.savefig(filename, bbox_inches='tight')\n",
    "    plt.clf()\n",
    "\n",
    "\n",
    "def graphCumulative(totals):\n",
    "    plt.xticks(rotation=90)\n",
    "    plt.plot(totals[\"Location\"], totals[\"CumPercent\"])\n",
    "    plt.show()\n",
    "\n",
    "\n",
    "def findTopXPercent(variant, year, targetPercent):\n",
    "    # returns top Locations as well as cumulative percentage\n",
    "    fileName = \"data/TotalPopulation_%s.csv\" % (variant)\n",
    "    popDF = pandas.read_csv(fileName)\n",
    "\n",
    "    # extract the totals per country from the data\n",
    "    yearData = popDF[[\"LocationID\", \"Location\", \"Group\", year]]\n",
    "    yearTotals = yearData.loc[yearData[\"Group\"] == \"Total\"]\n",
    "    # ^ a DF with the location and its total population for the year given\n",
    "\n",
    "    # extract the world's total population for the year\n",
    "    # get the total world population for the year as given by the data\n",
    "    totalWorldPopulation = yearTotals.loc[yearTotals[\"Location\"] == \"World\"][year].item()\n",
    "    # print(totalWorldPopulation)\n",
    "\n",
    "    with open(\"country-list.txt\") as country_list:\n",
    "        # read in list of countries\n",
    "        countries_file = country_list.read()\n",
    "\n",
    "    # make list of countries\n",
    "    countries = countries_file.split(\"\\n\")  # split on newline instead of whitespace (we want two worded countries)\n",
    "    countries = [c for c in countries if c]  # remove empty lines\n",
    "    countriesDF = pandas.DataFrame(data={\"countries\": countries})\n",
    "    # print(countriesDF.countries)\n",
    "\n",
    "    # remove all non-country locations by merging\n",
    "    # make a common dataframe that has only countries and removes non-countries, dropping na values\n",
    "    common = countriesDF.merge(yearTotals, how='inner', left_on=['countries'], right_on=['Location'])\n",
    "    yearTotals = common.dropna()\n",
    "    yearTotals = yearTotals.drop(columns=[\"countries\"])  # drop countries since same as location\n",
    "    # print(yearTotals)\n",
    "\n",
    "    # find the percent of the world's total by location and add a column with that\n",
    "    yearTotals[\"Percent\"] = yearTotals[year]/totalWorldPopulation  # % of the world's population\n",
    "\n",
    "    # sort by percent of world population\n",
    "    yearTotals.sort_values(by=[\"Percent\"], ascending=False, inplace=True)\n",
    "    # print(yearTotals)\n",
    "\n",
    "    # find the cumulative sum of percent\n",
    "    yearTotals[\"CumPercent\"] = yearTotals[\"Percent\"].cumsum()\n",
    "    # print(yearTotals)\n",
    "\n",
    "    # find the locations that collectively make up targetPercent of the world's population\n",
    "    topLocations = yearTotals[yearTotals[\"CumPercent\"] < targetPercent]\n",
    "    # print(topLocations)\n",
    "\n",
    "    # the locations with populations than targetPercent (not needed, but done for fun)\n",
    "    # greaterLocations = yearTotals.loc[yearTotals[\"Percent\"] > targetPercent]\n",
    "    # print(greaterLocations)\n",
    "\n",
    "    return yearTotals, topLocations\n",
    "\n",
    "\n",
    "def findTop():\n",
    "\n",
    "    variant = \"Medium\"  # can be:\n",
    "    #  \"ConstantFertility\" \"ConstantMortality\" \"High\" \"InstantReplacement\" \"Low\" \"Medium\" \"Momentum\" \"NoChange\" \"ZeroMigration\"\n",
    "\n",
    "    year = \"2020\"\n",
    "    targetPercent = 0.61  # 0 to 1\n",
    "    # returns top Locations as well as cumulative percentage\n",
    "    cumulativeTotals, topLocations = findTopXPercent(variant, year, targetPercent)\n",
    "\n",
    "    # drops group not needed\n",
    "    cumulativeTotals.drop(['Group'], axis=1, inplace=True)\n",
    "\n",
    "    # exporting dataframe to intermediate data folder\n",
    "    newfile = \"intermediate-data/Medium-TotalPop-CountID%s.csv\" % (year)\n",
    "    # export_csv = cumulativeTotals.to_csv(newfile, index = None, header=True)  #Don't forget to add '.csv' at the end of the path\n",
    "\n",
    "    # graph the cumulative sum (does not depend on targetPercent)\n",
    "    # graphCumulative(cumulativeTotals)\n",
    "    graphCumulative(topLocations)  # plot only the topLocations\n",
    "\n",
    "\n",
    "def createGif():\n",
    "\n",
    "    variants = [\"ConstantFertility\", \"ConstantMortality\", \"High\", \"InstantReplacement\", \"Low\", \"Medium\", \"Momentum\", \"NoChange\", \"ZeroMigration\"]\n",
    "    variant = \"Medium\"  # can be:\n",
    "    #  \"ConstantFertility\" \"ConstantMortality\" \"High\" \"InstantReplacement\" \"Low\" \"Medium\" \"Momentum\" \"NoChange\" \"ZeroMigration\"\n",
    "\n",
    "    years = [str(y) for y in range(1950, 2101)]\n",
    "    # years = [str(y) for y in range(2000, 2021)]\n",
    "    targetPercent = 0.61  # 0 to 1\n",
    "    # returns top Locations as well as cumulative percentage\n",
    "\n",
    "    # crate temp folder\n",
    "    if not os.path.isdir(\"tempimages\"):\n",
    "        os.mkdir(\"tempimages\")\n",
    "\n",
    "    if not os.path.isdir(\"gifs\"):\n",
    "        os.mkdir(\"gifs\")\n",
    "\n",
    "    imagenames = []\n",
    "    gifname = \"gifs/top%dpercent.gif\" % (int(targetPercent*100))  # makes 0.xx to xx%\n",
    "    for year in years:\n",
    "        print(\"Variant: %s, year: %s\" % (variant, year), end=\"\\r\")  # \\r makes it stay on the same line\n",
    "        cumulativeTotals, topLocations = findTopXPercent(variant, year, targetPercent)\n",
    "\n",
    "        # save image\n",
    "        imgname = \"tempimages/image_%s_%s.png\" % (variant, year)\n",
    "        imagenames.append(imgname)\n",
    "        metadata = (variant, year, targetPercent)\n",
    "        saveGraphCumulative(topLocations, imgname, metadata)\n",
    "\n",
    "    print(\"\\nDone creating images\")\n",
    "    # create the gif\n",
    "    totalFiles = len(imagenames)\n",
    "    imgnum = 0\n",
    "    figures = []\n",
    "    for img in imagenames:\n",
    "        imgnum += 1\n",
    "        print(\"processing %s  [%d/%d]\" % (img, imgnum, totalFiles), end=\"\\r\")\n",
    "        figures.append(imageio.imread(img))\n",
    "\n",
    "    imageio.mimsave(gifname, figures, duration=0.25)\n",
    "    print(\"gif made at % s\" % (gifname))\n",
    "\n",
    "    # remove images and temp folder\n",
    "    if os.path.isdir(\"tempimages\"):  # should always be true here\n",
    "        shutil.rmtree(\"tempimages\")\n",
    "    print(\"Images, temp folder removed\")\n",
    "\n",
    "\n",
    "# findTop()\n",
    "#createGif()\n"
   ]
  },
  {
   "cell_type": "code",
   "execution_count": 5,
   "metadata": {},
   "outputs": [],
   "source": [
    "# %load generalGifs.py\n",
    "import os\n",
    "import imageio\n",
    "import shutil\n",
    "\n",
    "\n",
    "# Flow:\n",
    "# call initFolders()\n",
    "#     tempfolder and all contents will be automatically removed\n",
    "# create and save figure images in folder tempimages/\n",
    "#     save the path name into a list\n",
    "#        imglist = [\"tempimages/img1.png\", \"tempimages/img2.png\"...]\n",
    "# pass that list and the desired name of the gif into createGif(imglist,gifname, speed)\n",
    "#     note: gif will automatically be put into gifs/ folder don't include \"gifs/\" in the path for gifname\n",
    "#     example call: createGif(imglist,\"foo.gif\")\n",
    "#     speed is the time in between frames in seconds (default = 0.25)\n",
    "\n",
    "def initFolders():\n",
    "    # crate temp folder\n",
    "    if not os.path.isdir(\"tempimages\"):\n",
    "        os.mkdir(\"tempimages\")\n",
    "    else:\n",
    "        for filename in os.listdir(\"tempimages\"):\n",
    "            os.remove(\"tempimages/%s\" % (filename))\n",
    "\n",
    "    if not os.path.isdir(\"gifs\"):\n",
    "        os.mkdir(\"gifs\")\n",
    "\n",
    "\n",
    "def createGif(imageList, gifname, speed=0.25):\n",
    "    gifname = \"gifs/%s\" % (gifname)\n",
    "    # create the gif\n",
    "    # https://stackoverflow.com/questions/753190/programmatically-generate-video-or-animated-gif-in-python\n",
    "\n",
    "    totalFiles = len(imageList)\n",
    "    imgnum = 0\n",
    "    figures = []\n",
    "    for img in imageList:\n",
    "        imgnum += 1\n",
    "        print(\"[%d/%d] | processing %s \\t\\t\\t\" % (imgnum, totalFiles, img), end=\"\\r\")\n",
    "        figures.append(imageio.imread(img))\n",
    "\n",
    "    imageio.mimsave(gifname, figures, duration=speed)\n",
    "    print(\"\\ngif made at % s\" % (gifname))\n",
    "\n",
    "    # remove images and temp folder\n",
    "    if os.path.isdir(\"tempimages\"):  # should always be true here\n",
    "        shutil.rmtree(\"tempimages\")\n",
    "    print(\"Images, temp folder removed\")\n"
   ]
  },
  {
   "cell_type": "code",
   "execution_count": 6,
   "metadata": {},
   "outputs": [],
   "source": [
    "import geopandas as gpd\n",
    "shapefile = 'intermediate-data/ne_10m_admin_0_countries.shp'\n",
    "#Read shapefile using Geopandas\n",
    "gdf = gpd.read_file(shapefile)[['ADMIN', 'ADM0_A3', 'geometry']]\n",
    "#Rename columns.\n",
    "gdf.columns = ['country', 'country_code', 'geometry']\n",
    "#gdf"
   ]
  },
  {
   "cell_type": "code",
   "execution_count": 7,
   "metadata": {},
   "outputs": [
    {
     "name": "stdout",
     "output_type": "stream",
     "text": [
      "        country country_code  \\\n",
      "172  Antarctica          ATA   \n",
      "\n",
      "                                              geometry  \n",
      "172  (POLYGON ((-51.73064133499992 -82.062556536999...  \n"
     ]
    }
   ],
   "source": [
    "print(gdf[gdf['country'] == 'Antarctica'])\n",
    "#Drop row corresponding to 'Antarctica'\n",
    "gdf = gdf.drop(gdf.index[159])"
   ]
  },
  {
   "cell_type": "code",
   "execution_count": 8,
   "metadata": {},
   "outputs": [],
   "source": [
    "import pandas as pd\n",
    "countrycodefile = 'intermediate-data/all-country-list.csv'\n",
    "#Read country code list csv file using pandas\n",
    "cf = pd.read_csv(countrycodefile, names = ['countryname', 'al2', 'al3code','countrycode','iso','region','subr','intr','rcode','subrcode','intrcode'], skiprows = 1)\n",
    "cf.drop(['iso','region','subr','intr','rcode','subrcode','intrcode'],axis=1,inplace=True)\n",
    "#cf"
   ]
  },
  {
   "cell_type": "code",
   "execution_count": 71,
   "metadata": {},
   "outputs": [
    {
     "name": "stdout",
     "output_type": "stream",
     "text": [
      "[151/151] | processing tempimages/densityimage_Medium_2100.png \t\t\t\n",
      "gif made at gifs/density_Medium.gif\n",
      "Images, temp folder removed\n"
     ]
    },
    {
     "data": {
      "text/plain": [
       "<Figure size 1152x720 with 0 Axes>"
      ]
     },
     "metadata": {},
     "output_type": "display_data"
    },
    {
     "data": {
      "text/plain": [
       "<Figure size 1152x720 with 0 Axes>"
      ]
     },
     "metadata": {},
     "output_type": "display_data"
    },
    {
     "data": {
      "text/plain": [
       "<Figure size 1152x720 with 0 Axes>"
      ]
     },
     "metadata": {},
     "output_type": "display_data"
    },
    {
     "data": {
      "text/plain": [
       "<Figure size 1152x720 with 0 Axes>"
      ]
     },
     "metadata": {},
     "output_type": "display_data"
    },
    {
     "data": {
      "text/plain": [
       "<Figure size 1152x720 with 0 Axes>"
      ]
     },
     "metadata": {},
     "output_type": "display_data"
    },
    {
     "data": {
      "text/plain": [
       "<Figure size 1152x720 with 0 Axes>"
      ]
     },
     "metadata": {},
     "output_type": "display_data"
    },
    {
     "data": {
      "text/plain": [
       "<Figure size 1152x720 with 0 Axes>"
      ]
     },
     "metadata": {},
     "output_type": "display_data"
    },
    {
     "data": {
      "text/plain": [
       "<Figure size 1152x720 with 0 Axes>"
      ]
     },
     "metadata": {},
     "output_type": "display_data"
    },
    {
     "data": {
      "text/plain": [
       "<Figure size 1152x720 with 0 Axes>"
      ]
     },
     "metadata": {},
     "output_type": "display_data"
    },
    {
     "data": {
      "text/plain": [
       "<Figure size 1152x720 with 0 Axes>"
      ]
     },
     "metadata": {},
     "output_type": "display_data"
    },
    {
     "data": {
      "text/plain": [
       "<Figure size 1152x720 with 0 Axes>"
      ]
     },
     "metadata": {},
     "output_type": "display_data"
    },
    {
     "data": {
      "text/plain": [
       "<Figure size 1152x720 with 0 Axes>"
      ]
     },
     "metadata": {},
     "output_type": "display_data"
    },
    {
     "data": {
      "text/plain": [
       "<Figure size 1152x720 with 0 Axes>"
      ]
     },
     "metadata": {},
     "output_type": "display_data"
    },
    {
     "data": {
      "text/plain": [
       "<Figure size 1152x720 with 0 Axes>"
      ]
     },
     "metadata": {},
     "output_type": "display_data"
    },
    {
     "data": {
      "text/plain": [
       "<Figure size 1152x720 with 0 Axes>"
      ]
     },
     "metadata": {},
     "output_type": "display_data"
    },
    {
     "data": {
      "text/plain": [
       "<Figure size 1152x720 with 0 Axes>"
      ]
     },
     "metadata": {},
     "output_type": "display_data"
    },
    {
     "data": {
      "text/plain": [
       "<Figure size 1152x720 with 0 Axes>"
      ]
     },
     "metadata": {},
     "output_type": "display_data"
    },
    {
     "data": {
      "text/plain": [
       "<Figure size 1152x720 with 0 Axes>"
      ]
     },
     "metadata": {},
     "output_type": "display_data"
    },
    {
     "data": {
      "text/plain": [
       "<Figure size 1152x720 with 0 Axes>"
      ]
     },
     "metadata": {},
     "output_type": "display_data"
    },
    {
     "data": {
      "text/plain": [
       "<Figure size 1152x720 with 0 Axes>"
      ]
     },
     "metadata": {},
     "output_type": "display_data"
    },
    {
     "data": {
      "text/plain": [
       "<Figure size 1152x720 with 0 Axes>"
      ]
     },
     "metadata": {},
     "output_type": "display_data"
    },
    {
     "data": {
      "text/plain": [
       "<Figure size 1152x720 with 0 Axes>"
      ]
     },
     "metadata": {},
     "output_type": "display_data"
    },
    {
     "data": {
      "text/plain": [
       "<Figure size 1152x720 with 0 Axes>"
      ]
     },
     "metadata": {},
     "output_type": "display_data"
    },
    {
     "data": {
      "text/plain": [
       "<Figure size 1152x720 with 0 Axes>"
      ]
     },
     "metadata": {},
     "output_type": "display_data"
    },
    {
     "data": {
      "text/plain": [
       "<Figure size 1152x720 with 0 Axes>"
      ]
     },
     "metadata": {},
     "output_type": "display_data"
    },
    {
     "data": {
      "text/plain": [
       "<Figure size 1152x720 with 0 Axes>"
      ]
     },
     "metadata": {},
     "output_type": "display_data"
    },
    {
     "data": {
      "text/plain": [
       "<Figure size 1152x720 with 0 Axes>"
      ]
     },
     "metadata": {},
     "output_type": "display_data"
    },
    {
     "data": {
      "text/plain": [
       "<Figure size 1152x720 with 0 Axes>"
      ]
     },
     "metadata": {},
     "output_type": "display_data"
    },
    {
     "data": {
      "text/plain": [
       "<Figure size 1152x720 with 0 Axes>"
      ]
     },
     "metadata": {},
     "output_type": "display_data"
    },
    {
     "data": {
      "text/plain": [
       "<Figure size 1152x720 with 0 Axes>"
      ]
     },
     "metadata": {},
     "output_type": "display_data"
    },
    {
     "data": {
      "text/plain": [
       "<Figure size 1152x720 with 0 Axes>"
      ]
     },
     "metadata": {},
     "output_type": "display_data"
    },
    {
     "data": {
      "text/plain": [
       "<Figure size 1152x720 with 0 Axes>"
      ]
     },
     "metadata": {},
     "output_type": "display_data"
    },
    {
     "data": {
      "text/plain": [
       "<Figure size 1152x720 with 0 Axes>"
      ]
     },
     "metadata": {},
     "output_type": "display_data"
    },
    {
     "data": {
      "text/plain": [
       "<Figure size 1152x720 with 0 Axes>"
      ]
     },
     "metadata": {},
     "output_type": "display_data"
    },
    {
     "data": {
      "text/plain": [
       "<Figure size 1152x720 with 0 Axes>"
      ]
     },
     "metadata": {},
     "output_type": "display_data"
    },
    {
     "data": {
      "text/plain": [
       "<Figure size 1152x720 with 0 Axes>"
      ]
     },
     "metadata": {},
     "output_type": "display_data"
    },
    {
     "data": {
      "text/plain": [
       "<Figure size 1152x720 with 0 Axes>"
      ]
     },
     "metadata": {},
     "output_type": "display_data"
    },
    {
     "data": {
      "text/plain": [
       "<Figure size 1152x720 with 0 Axes>"
      ]
     },
     "metadata": {},
     "output_type": "display_data"
    },
    {
     "data": {
      "text/plain": [
       "<Figure size 1152x720 with 0 Axes>"
      ]
     },
     "metadata": {},
     "output_type": "display_data"
    },
    {
     "data": {
      "text/plain": [
       "<Figure size 1152x720 with 0 Axes>"
      ]
     },
     "metadata": {},
     "output_type": "display_data"
    },
    {
     "data": {
      "text/plain": [
       "<Figure size 1152x720 with 0 Axes>"
      ]
     },
     "metadata": {},
     "output_type": "display_data"
    },
    {
     "data": {
      "text/plain": [
       "<Figure size 1152x720 with 0 Axes>"
      ]
     },
     "metadata": {},
     "output_type": "display_data"
    },
    {
     "data": {
      "text/plain": [
       "<Figure size 1152x720 with 0 Axes>"
      ]
     },
     "metadata": {},
     "output_type": "display_data"
    },
    {
     "data": {
      "text/plain": [
       "<Figure size 1152x720 with 0 Axes>"
      ]
     },
     "metadata": {},
     "output_type": "display_data"
    },
    {
     "data": {
      "text/plain": [
       "<Figure size 1152x720 with 0 Axes>"
      ]
     },
     "metadata": {},
     "output_type": "display_data"
    },
    {
     "data": {
      "text/plain": [
       "<Figure size 1152x720 with 0 Axes>"
      ]
     },
     "metadata": {},
     "output_type": "display_data"
    },
    {
     "data": {
      "text/plain": [
       "<Figure size 1152x720 with 0 Axes>"
      ]
     },
     "metadata": {},
     "output_type": "display_data"
    },
    {
     "data": {
      "text/plain": [
       "<Figure size 1152x720 with 0 Axes>"
      ]
     },
     "metadata": {},
     "output_type": "display_data"
    },
    {
     "data": {
      "text/plain": [
       "<Figure size 1152x720 with 0 Axes>"
      ]
     },
     "metadata": {},
     "output_type": "display_data"
    },
    {
     "data": {
      "text/plain": [
       "<Figure size 1152x720 with 0 Axes>"
      ]
     },
     "metadata": {},
     "output_type": "display_data"
    },
    {
     "data": {
      "text/plain": [
       "<Figure size 1152x720 with 0 Axes>"
      ]
     },
     "metadata": {},
     "output_type": "display_data"
    },
    {
     "data": {
      "text/plain": [
       "<Figure size 1152x720 with 0 Axes>"
      ]
     },
     "metadata": {},
     "output_type": "display_data"
    },
    {
     "data": {
      "text/plain": [
       "<Figure size 1152x720 with 0 Axes>"
      ]
     },
     "metadata": {},
     "output_type": "display_data"
    },
    {
     "data": {
      "text/plain": [
       "<Figure size 1152x720 with 0 Axes>"
      ]
     },
     "metadata": {},
     "output_type": "display_data"
    },
    {
     "data": {
      "text/plain": [
       "<Figure size 1152x720 with 0 Axes>"
      ]
     },
     "metadata": {},
     "output_type": "display_data"
    },
    {
     "data": {
      "text/plain": [
       "<Figure size 1152x720 with 0 Axes>"
      ]
     },
     "metadata": {},
     "output_type": "display_data"
    },
    {
     "data": {
      "text/plain": [
       "<Figure size 1152x720 with 0 Axes>"
      ]
     },
     "metadata": {},
     "output_type": "display_data"
    },
    {
     "data": {
      "text/plain": [
       "<Figure size 1152x720 with 0 Axes>"
      ]
     },
     "metadata": {},
     "output_type": "display_data"
    },
    {
     "data": {
      "text/plain": [
       "<Figure size 1152x720 with 0 Axes>"
      ]
     },
     "metadata": {},
     "output_type": "display_data"
    },
    {
     "data": {
      "text/plain": [
       "<Figure size 1152x720 with 0 Axes>"
      ]
     },
     "metadata": {},
     "output_type": "display_data"
    },
    {
     "data": {
      "text/plain": [
       "<Figure size 1152x720 with 0 Axes>"
      ]
     },
     "metadata": {},
     "output_type": "display_data"
    },
    {
     "data": {
      "text/plain": [
       "<Figure size 1152x720 with 0 Axes>"
      ]
     },
     "metadata": {},
     "output_type": "display_data"
    },
    {
     "data": {
      "text/plain": [
       "<Figure size 1152x720 with 0 Axes>"
      ]
     },
     "metadata": {},
     "output_type": "display_data"
    },
    {
     "data": {
      "text/plain": [
       "<Figure size 1152x720 with 0 Axes>"
      ]
     },
     "metadata": {},
     "output_type": "display_data"
    },
    {
     "data": {
      "text/plain": [
       "<Figure size 1152x720 with 0 Axes>"
      ]
     },
     "metadata": {},
     "output_type": "display_data"
    },
    {
     "data": {
      "text/plain": [
       "<Figure size 1152x720 with 0 Axes>"
      ]
     },
     "metadata": {},
     "output_type": "display_data"
    },
    {
     "data": {
      "text/plain": [
       "<Figure size 1152x720 with 0 Axes>"
      ]
     },
     "metadata": {},
     "output_type": "display_data"
    },
    {
     "data": {
      "text/plain": [
       "<Figure size 1152x720 with 0 Axes>"
      ]
     },
     "metadata": {},
     "output_type": "display_data"
    },
    {
     "data": {
      "text/plain": [
       "<Figure size 1152x720 with 0 Axes>"
      ]
     },
     "metadata": {},
     "output_type": "display_data"
    },
    {
     "data": {
      "text/plain": [
       "<Figure size 1152x720 with 0 Axes>"
      ]
     },
     "metadata": {},
     "output_type": "display_data"
    },
    {
     "data": {
      "text/plain": [
       "<Figure size 1152x720 with 0 Axes>"
      ]
     },
     "metadata": {},
     "output_type": "display_data"
    },
    {
     "data": {
      "text/plain": [
       "<Figure size 1152x720 with 0 Axes>"
      ]
     },
     "metadata": {},
     "output_type": "display_data"
    },
    {
     "data": {
      "text/plain": [
       "<Figure size 1152x720 with 0 Axes>"
      ]
     },
     "metadata": {},
     "output_type": "display_data"
    },
    {
     "data": {
      "text/plain": [
       "<Figure size 1152x720 with 0 Axes>"
      ]
     },
     "metadata": {},
     "output_type": "display_data"
    },
    {
     "data": {
      "text/plain": [
       "<Figure size 1152x720 with 0 Axes>"
      ]
     },
     "metadata": {},
     "output_type": "display_data"
    },
    {
     "data": {
      "text/plain": [
       "<Figure size 1152x720 with 0 Axes>"
      ]
     },
     "metadata": {},
     "output_type": "display_data"
    },
    {
     "data": {
      "text/plain": [
       "<Figure size 1152x720 with 0 Axes>"
      ]
     },
     "metadata": {},
     "output_type": "display_data"
    },
    {
     "data": {
      "text/plain": [
       "<Figure size 1152x720 with 0 Axes>"
      ]
     },
     "metadata": {},
     "output_type": "display_data"
    },
    {
     "data": {
      "text/plain": [
       "<Figure size 1152x720 with 0 Axes>"
      ]
     },
     "metadata": {},
     "output_type": "display_data"
    },
    {
     "data": {
      "text/plain": [
       "<Figure size 1152x720 with 0 Axes>"
      ]
     },
     "metadata": {},
     "output_type": "display_data"
    },
    {
     "data": {
      "text/plain": [
       "<Figure size 1152x720 with 0 Axes>"
      ]
     },
     "metadata": {},
     "output_type": "display_data"
    },
    {
     "data": {
      "text/plain": [
       "<Figure size 1152x720 with 0 Axes>"
      ]
     },
     "metadata": {},
     "output_type": "display_data"
    },
    {
     "data": {
      "text/plain": [
       "<Figure size 1152x720 with 0 Axes>"
      ]
     },
     "metadata": {},
     "output_type": "display_data"
    },
    {
     "data": {
      "text/plain": [
       "<Figure size 1152x720 with 0 Axes>"
      ]
     },
     "metadata": {},
     "output_type": "display_data"
    },
    {
     "data": {
      "text/plain": [
       "<Figure size 1152x720 with 0 Axes>"
      ]
     },
     "metadata": {},
     "output_type": "display_data"
    },
    {
     "data": {
      "text/plain": [
       "<Figure size 1152x720 with 0 Axes>"
      ]
     },
     "metadata": {},
     "output_type": "display_data"
    },
    {
     "data": {
      "text/plain": [
       "<Figure size 1152x720 with 0 Axes>"
      ]
     },
     "metadata": {},
     "output_type": "display_data"
    },
    {
     "data": {
      "text/plain": [
       "<Figure size 1152x720 with 0 Axes>"
      ]
     },
     "metadata": {},
     "output_type": "display_data"
    },
    {
     "data": {
      "text/plain": [
       "<Figure size 1152x720 with 0 Axes>"
      ]
     },
     "metadata": {},
     "output_type": "display_data"
    },
    {
     "data": {
      "text/plain": [
       "<Figure size 1152x720 with 0 Axes>"
      ]
     },
     "metadata": {},
     "output_type": "display_data"
    },
    {
     "data": {
      "text/plain": [
       "<Figure size 1152x720 with 0 Axes>"
      ]
     },
     "metadata": {},
     "output_type": "display_data"
    },
    {
     "data": {
      "text/plain": [
       "<Figure size 1152x720 with 0 Axes>"
      ]
     },
     "metadata": {},
     "output_type": "display_data"
    },
    {
     "data": {
      "text/plain": [
       "<Figure size 1152x720 with 0 Axes>"
      ]
     },
     "metadata": {},
     "output_type": "display_data"
    },
    {
     "data": {
      "text/plain": [
       "<Figure size 1152x720 with 0 Axes>"
      ]
     },
     "metadata": {},
     "output_type": "display_data"
    },
    {
     "data": {
      "text/plain": [
       "<Figure size 1152x720 with 0 Axes>"
      ]
     },
     "metadata": {},
     "output_type": "display_data"
    },
    {
     "data": {
      "text/plain": [
       "<Figure size 1152x720 with 0 Axes>"
      ]
     },
     "metadata": {},
     "output_type": "display_data"
    },
    {
     "data": {
      "text/plain": [
       "<Figure size 1152x720 with 0 Axes>"
      ]
     },
     "metadata": {},
     "output_type": "display_data"
    },
    {
     "data": {
      "text/plain": [
       "<Figure size 1152x720 with 0 Axes>"
      ]
     },
     "metadata": {},
     "output_type": "display_data"
    },
    {
     "data": {
      "text/plain": [
       "<Figure size 1152x720 with 0 Axes>"
      ]
     },
     "metadata": {},
     "output_type": "display_data"
    },
    {
     "data": {
      "text/plain": [
       "<Figure size 1152x720 with 0 Axes>"
      ]
     },
     "metadata": {},
     "output_type": "display_data"
    },
    {
     "data": {
      "text/plain": [
       "<Figure size 1152x720 with 0 Axes>"
      ]
     },
     "metadata": {},
     "output_type": "display_data"
    },
    {
     "data": {
      "text/plain": [
       "<Figure size 1152x720 with 0 Axes>"
      ]
     },
     "metadata": {},
     "output_type": "display_data"
    },
    {
     "data": {
      "text/plain": [
       "<Figure size 1152x720 with 0 Axes>"
      ]
     },
     "metadata": {},
     "output_type": "display_data"
    },
    {
     "data": {
      "text/plain": [
       "<Figure size 1152x720 with 0 Axes>"
      ]
     },
     "metadata": {},
     "output_type": "display_data"
    },
    {
     "data": {
      "text/plain": [
       "<Figure size 1152x720 with 0 Axes>"
      ]
     },
     "metadata": {},
     "output_type": "display_data"
    },
    {
     "data": {
      "text/plain": [
       "<Figure size 1152x720 with 0 Axes>"
      ]
     },
     "metadata": {},
     "output_type": "display_data"
    },
    {
     "data": {
      "text/plain": [
       "<Figure size 1152x720 with 0 Axes>"
      ]
     },
     "metadata": {},
     "output_type": "display_data"
    },
    {
     "data": {
      "text/plain": [
       "<Figure size 1152x720 with 0 Axes>"
      ]
     },
     "metadata": {},
     "output_type": "display_data"
    },
    {
     "data": {
      "text/plain": [
       "<Figure size 1152x720 with 0 Axes>"
      ]
     },
     "metadata": {},
     "output_type": "display_data"
    },
    {
     "data": {
      "text/plain": [
       "<Figure size 1152x720 with 0 Axes>"
      ]
     },
     "metadata": {},
     "output_type": "display_data"
    },
    {
     "data": {
      "text/plain": [
       "<Figure size 1152x720 with 0 Axes>"
      ]
     },
     "metadata": {},
     "output_type": "display_data"
    },
    {
     "data": {
      "text/plain": [
       "<Figure size 1152x720 with 0 Axes>"
      ]
     },
     "metadata": {},
     "output_type": "display_data"
    },
    {
     "data": {
      "text/plain": [
       "<Figure size 1152x720 with 0 Axes>"
      ]
     },
     "metadata": {},
     "output_type": "display_data"
    },
    {
     "data": {
      "text/plain": [
       "<Figure size 1152x720 with 0 Axes>"
      ]
     },
     "metadata": {},
     "output_type": "display_data"
    },
    {
     "data": {
      "text/plain": [
       "<Figure size 1152x720 with 0 Axes>"
      ]
     },
     "metadata": {},
     "output_type": "display_data"
    },
    {
     "data": {
      "text/plain": [
       "<Figure size 1152x720 with 0 Axes>"
      ]
     },
     "metadata": {},
     "output_type": "display_data"
    },
    {
     "data": {
      "text/plain": [
       "<Figure size 1152x720 with 0 Axes>"
      ]
     },
     "metadata": {},
     "output_type": "display_data"
    },
    {
     "data": {
      "text/plain": [
       "<Figure size 1152x720 with 0 Axes>"
      ]
     },
     "metadata": {},
     "output_type": "display_data"
    },
    {
     "data": {
      "text/plain": [
       "<Figure size 1152x720 with 0 Axes>"
      ]
     },
     "metadata": {},
     "output_type": "display_data"
    },
    {
     "data": {
      "text/plain": [
       "<Figure size 1152x720 with 0 Axes>"
      ]
     },
     "metadata": {},
     "output_type": "display_data"
    },
    {
     "data": {
      "text/plain": [
       "<Figure size 1152x720 with 0 Axes>"
      ]
     },
     "metadata": {},
     "output_type": "display_data"
    },
    {
     "data": {
      "text/plain": [
       "<Figure size 1152x720 with 0 Axes>"
      ]
     },
     "metadata": {},
     "output_type": "display_data"
    },
    {
     "data": {
      "text/plain": [
       "<Figure size 1152x720 with 0 Axes>"
      ]
     },
     "metadata": {},
     "output_type": "display_data"
    },
    {
     "data": {
      "text/plain": [
       "<Figure size 1152x720 with 0 Axes>"
      ]
     },
     "metadata": {},
     "output_type": "display_data"
    },
    {
     "data": {
      "text/plain": [
       "<Figure size 1152x720 with 0 Axes>"
      ]
     },
     "metadata": {},
     "output_type": "display_data"
    },
    {
     "data": {
      "text/plain": [
       "<Figure size 1152x720 with 0 Axes>"
      ]
     },
     "metadata": {},
     "output_type": "display_data"
    },
    {
     "data": {
      "text/plain": [
       "<Figure size 1152x720 with 0 Axes>"
      ]
     },
     "metadata": {},
     "output_type": "display_data"
    },
    {
     "data": {
      "text/plain": [
       "<Figure size 1152x720 with 0 Axes>"
      ]
     },
     "metadata": {},
     "output_type": "display_data"
    },
    {
     "data": {
      "text/plain": [
       "<Figure size 1152x720 with 0 Axes>"
      ]
     },
     "metadata": {},
     "output_type": "display_data"
    },
    {
     "data": {
      "text/plain": [
       "<Figure size 1152x720 with 0 Axes>"
      ]
     },
     "metadata": {},
     "output_type": "display_data"
    },
    {
     "data": {
      "text/plain": [
       "<Figure size 1152x720 with 0 Axes>"
      ]
     },
     "metadata": {},
     "output_type": "display_data"
    },
    {
     "data": {
      "text/plain": [
       "<Figure size 1152x720 with 0 Axes>"
      ]
     },
     "metadata": {},
     "output_type": "display_data"
    },
    {
     "data": {
      "text/plain": [
       "<Figure size 1152x720 with 0 Axes>"
      ]
     },
     "metadata": {},
     "output_type": "display_data"
    },
    {
     "data": {
      "text/plain": [
       "<Figure size 1152x720 with 0 Axes>"
      ]
     },
     "metadata": {},
     "output_type": "display_data"
    },
    {
     "data": {
      "text/plain": [
       "<Figure size 1152x720 with 0 Axes>"
      ]
     },
     "metadata": {},
     "output_type": "display_data"
    },
    {
     "data": {
      "text/plain": [
       "<Figure size 1152x720 with 0 Axes>"
      ]
     },
     "metadata": {},
     "output_type": "display_data"
    },
    {
     "data": {
      "text/plain": [
       "<Figure size 1152x720 with 0 Axes>"
      ]
     },
     "metadata": {},
     "output_type": "display_data"
    },
    {
     "data": {
      "text/plain": [
       "<Figure size 1152x720 with 0 Axes>"
      ]
     },
     "metadata": {},
     "output_type": "display_data"
    },
    {
     "data": {
      "text/plain": [
       "<Figure size 1152x720 with 0 Axes>"
      ]
     },
     "metadata": {},
     "output_type": "display_data"
    },
    {
     "data": {
      "text/plain": [
       "<Figure size 1152x720 with 0 Axes>"
      ]
     },
     "metadata": {},
     "output_type": "display_data"
    },
    {
     "data": {
      "text/plain": [
       "<Figure size 1152x720 with 0 Axes>"
      ]
     },
     "metadata": {},
     "output_type": "display_data"
    },
    {
     "data": {
      "text/plain": [
       "<Figure size 1152x720 with 0 Axes>"
      ]
     },
     "metadata": {},
     "output_type": "display_data"
    },
    {
     "data": {
      "text/plain": [
       "<Figure size 1152x720 with 0 Axes>"
      ]
     },
     "metadata": {},
     "output_type": "display_data"
    },
    {
     "data": {
      "text/plain": [
       "<Figure size 1152x720 with 0 Axes>"
      ]
     },
     "metadata": {},
     "output_type": "display_data"
    },
    {
     "data": {
      "text/plain": [
       "<Figure size 1152x720 with 0 Axes>"
      ]
     },
     "metadata": {},
     "output_type": "display_data"
    },
    {
     "data": {
      "text/plain": [
       "<Figure size 1152x720 with 0 Axes>"
      ]
     },
     "metadata": {},
     "output_type": "display_data"
    },
    {
     "data": {
      "text/plain": [
       "<Figure size 1152x720 with 0 Axes>"
      ]
     },
     "metadata": {},
     "output_type": "display_data"
    },
    {
     "data": {
      "text/plain": [
       "<Figure size 1152x720 with 0 Axes>"
      ]
     },
     "metadata": {},
     "output_type": "display_data"
    },
    {
     "data": {
      "text/plain": [
       "<Figure size 1152x720 with 0 Axes>"
      ]
     },
     "metadata": {},
     "output_type": "display_data"
    },
    {
     "data": {
      "text/plain": [
       "<Figure size 1152x720 with 0 Axes>"
      ]
     },
     "metadata": {},
     "output_type": "display_data"
    },
    {
     "data": {
      "text/plain": [
       "<Figure size 1152x720 with 0 Axes>"
      ]
     },
     "metadata": {},
     "output_type": "display_data"
    }
   ],
   "source": [
    "import matplotlib.pyplot as plt\n",
    "import pandas as pd\n",
    "import os\n",
    "import numpy as np\n",
    "from matplotlib import cm\n",
    "from matplotlib.colors import ListedColormap, LinearSegmentedColormap\n",
    "\n",
    "\n",
    "variants = [\"ConstantFertility\", \"ConstantMortality\", \"High\", \"InstantReplacement\", \"Low\", \"Medium\", \"Momentum\", \"NoChange\", \"ZeroMigration\"]\n",
    "years = [str(y) for y in range(1950, 2101)]\n",
    "variant = \"Medium\"\n",
    "#target percent does not change the graph\n",
    "targetPercent = 0.61 \n",
    "#going through all of the variants\n",
    "#for variant in variants:\n",
    "#creating test files\n",
    "initFolders()\n",
    "#list of image paths\n",
    "imagenames=[]\n",
    "for year in years:\n",
    "    #finds percentage of country's population/ total world population\n",
    "    cumulativeTotals, topLocations = findTopXPercent(variant, year, targetPercent)\n",
    "    cumulativeTotals.drop(['Group'], axis=1, inplace=True)\n",
    "    #print(cumulativeTotals)\n",
    "    #merging data frames with numerical country code\n",
    "    halfmerge = cf.merge(cumulativeTotals, left_on = 'countrycode', right_on = 'LocationID')\n",
    "    #merging data frames with the 3 character country code\n",
    "    merged = gdf.merge(halfmerge, left_on = 'country_code', right_on = 'al3code')\n",
    "    print(\"Variant: %s, year: %s\" % (variant, year), end=\"\\r\")\n",
    "    colors =10\n",
    "    #cmap = 'RdPu'\n",
    "    #defining color map and only taking subset of the sequential color\n",
    "    viridisBig = cm.get_cmap('GnBu', 512)\n",
    "    newcmp = ListedColormap(viridisBig(np.linspace(0.45, 0.95, 256)))\n",
    "    figsize = (16, 10)\n",
    "    bi = [0.02, 0.04,0.06,0.08,0.1,0.12,0.14,0.16,0.18,0.2]\n",
    "    ax = merged.plot(column='Percent', cmap=newcmp, figsize=figsize,scheme='User_Defined',classification_kwds={'bins':bi},k=colors,legend=True)\n",
    "    ax.set_axis_off()\n",
    "    leg = ax.get_legend()\n",
    "    #leg.get_texts()[0].set_text('New label 1')\n",
    "    #ax.set_xlim([-1.5e7, 1.7e7])\n",
    "    ax.get_legend().set_bbox_to_anchor((.12, .4))\n",
    "    plt.title('%s density of total population % s' % (variant, year))\n",
    "    #saving images\n",
    "    imgname = \"tempimages/densityimage_%s_%s.png\" % (variant, year)\n",
    "    imagenames.append(imgname)\n",
    "    plt.savefig(imgname, bbox_inches='tight')\n",
    "    #clear plot\n",
    "    plt.clf()\n",
    "#for each variant call create gif\n",
    "gifname = \"density_%s.gif\" %(variant)\n",
    "createGif(imagenames,gifname,0.1)\n",
    "        "
   ]
  },
  {
   "cell_type": "code",
   "execution_count": 6,
   "metadata": {},
   "outputs": [],
   "source": [
    "#half merge \n",
    "#merging country-list and medium total pop data set\n",
    "halfmerge = cf.merge(df, left_on = 'countrycode', right_on = 'locationid')\n",
    "#halfmerge"
   ]
  },
  {
   "cell_type": "code",
   "execution_count": 7,
   "metadata": {},
   "outputs": [
    {
     "data": {
      "text/html": [
       "<div>\n",
       "<style scoped>\n",
       "    .dataframe tbody tr th:only-of-type {\n",
       "        vertical-align: middle;\n",
       "    }\n",
       "\n",
       "    .dataframe tbody tr th {\n",
       "        vertical-align: top;\n",
       "    }\n",
       "\n",
       "    .dataframe thead th {\n",
       "        text-align: right;\n",
       "    }\n",
       "</style>\n",
       "<table border=\"1\" class=\"dataframe\">\n",
       "  <thead>\n",
       "    <tr style=\"text-align: right;\">\n",
       "      <th></th>\n",
       "      <th>country</th>\n",
       "      <th>country_code</th>\n",
       "      <th>geometry</th>\n",
       "      <th>countryname</th>\n",
       "      <th>al2</th>\n",
       "      <th>al3code</th>\n",
       "      <th>countrycode</th>\n",
       "      <th>locationid</th>\n",
       "      <th>location</th>\n",
       "      <th>year</th>\n",
       "      <th>per_cent</th>\n",
       "      <th>cum_percent</th>\n",
       "    </tr>\n",
       "  </thead>\n",
       "  <tbody>\n",
       "    <tr>\n",
       "      <th>34</th>\n",
       "      <td>Namibia</td>\n",
       "      <td>NAM</td>\n",
       "      <td>POLYGON ((16.48707116000008 -28.57293059699992...</td>\n",
       "      <td>Namibia</td>\n",
       "      <td>NaN</td>\n",
       "      <td>NAM</td>\n",
       "      <td>516</td>\n",
       "      <td>516</td>\n",
       "      <td>Namibia</td>\n",
       "      <td>2696.537</td>\n",
       "      <td>0.000346</td>\n",
       "      <td>0.994081</td>\n",
       "    </tr>\n",
       "  </tbody>\n",
       "</table>\n",
       "</div>"
      ],
      "text/plain": [
       "    country country_code                                           geometry  \\\n",
       "34  Namibia          NAM  POLYGON ((16.48707116000008 -28.57293059699992...   \n",
       "\n",
       "   countryname  al2 al3code  countrycode  locationid location      year  \\\n",
       "34     Namibia  NaN     NAM          516         516  Namibia  2696.537   \n",
       "\n",
       "    per_cent  cum_percent  \n",
       "34  0.000346     0.994081  "
      ]
     },
     "execution_count": 7,
     "metadata": {},
     "output_type": "execute_result"
    }
   ],
   "source": [
    "merged = gdf.merge(halfmerge, left_on = 'country_code', right_on = 'al3code')\n",
    "merged.loc[merged['country_code'] == 'NAM']"
   ]
  },
  {
   "cell_type": "code",
   "execution_count": 120,
   "metadata": {},
   "outputs": [
    {
     "data": {
      "text/plain": [
       "Text(0.5, 1.0, 'MEDIUM TOTAL POPULATION -2099')"
      ]
     },
     "execution_count": 120,
     "metadata": {},
     "output_type": "execute_result"
    },
    {
     "data": {
      "image/png": "[encoded data removed]",
      "text/plain": [
       "<Figure size 1152x720 with 1 Axes>"
      ]
     },
     "metadata": {
      "needs_background": "light"
     },
     "output_type": "display_data"
    }
   ],
   "source": [
    "#GRAPH OF MEDIUM-TOTAL POPULATION 2099\n",
    "#takes percent of country's population compared to the world and maps that\n",
    "import numpy as np\n",
    "from matplotlib import cm\n",
    "from matplotlib.colors import ListedColormap, LinearSegmentedColormap\n",
    "\n",
    "\n",
    "import matplotlib as mpl\n",
    "colors =10\n",
    "cmap = 'RdPu'\n",
    "bi = [0.02, 0.04,0.06,0.08,0.1,0.12,0.14,0.16,0.18,0.2,0.22]\n",
    "color_dict1 = {'dg': '#7fe07f',\n",
    "               'dg2': '#5fd85f',\n",
    "               'dg3': '#58cb58',\n",
    "               'dg4': '#52be52',\n",
    "               'dg5': '#44a444',\n",
    "               'dg6': '#3e973e',\n",
    "               'dg7': '#378a37',\n",
    "               'dg8': '#307d30',\n",
    "               'dg9': '#2a702a',\n",
    "               'dg10': '#236323',\n",
    "               'dg11': '#164916'}\n",
    "\n",
    "newcmp = LinearSegmentedColormap.from_list('newcmp', [\n",
    "    color_dict1['dg'],\n",
    "    color_dict1['dg2'],\n",
    "    color_dict1['dg3'],\n",
    "    color_dict1['dg4'],\n",
    "    color_dict1['dg5'],\n",
    "    color_dict1['dg6'],\n",
    "    color_dict1['dg7'],\n",
    "    color_dict1['dg8'],\n",
    "    color_dict1['dg9'],\n",
    "    color_dict1['dg10'],\n",
    "    color_dict1['dg11']],N=11)\n",
    "\n",
    "# viridisBig = cm.get_cmap('GnBu', 11)\n",
    "# newcmp = ListedColormap(viridisBig(np.linspace(0.25,0.95, 1024)))\n",
    "figsize = (16, 10)\n",
    "#levels = np.linspace(0,0.2, 10)\n",
    "bounds = [0, 0.1, 0.2, 0.3, 0.4,0.5,0.6,0.7,0.8,0.9]\n",
    "#fig, (axs1) = plt.subplots(1, 1)\n",
    "\n",
    "ax = merged.plot(column='Percent', cmap=newcmp, figsize=figsize,scheme='User_Defined',classification_kwds={'bins':bi},legend=True)\n",
    "# cb2 = mpl.colorbar.ColorbarBase(axs1, cmap=newcmp,\n",
    "#                                 extend='both',\n",
    "#                                 ticks=bounds,\n",
    "#                                 spacing='proportional')\n",
    "\n",
    "ax.set_axis_off()\n",
    "leg = ax.get_legend()\n",
    "#leg.get_texts()[0].set_text('New label 1')\n",
    "#ax.set_xlim([-1.5e7, 1.7e7])\n",
    "ax.get_legend().set_bbox_to_anchor((.12, .4))\n",
    "#ax.get_figure()\n",
    "# scheme='equal_interval',k=colors,legend=True\n",
    "# plt.imshow(ax, cmap='RdBu')\n",
    "# plt.colorbar(extend='both')\n",
    "# plt.clim(0, 1)\n",
    "plt.title('MEDIUM TOTAL POPULATION -2099')"
   ]
  },
  {
   "cell_type": "code",
   "execution_count": null,
   "metadata": {},
   "outputs": [],
   "source": []
  }
 ],
 "metadata": {
  "kernelspec": {
   "display_name": "Python 3",
   "language": "python",
   "name": "python3"
  },
  "language_info": {
   "codemirror_mode": {
    "name": "ipython",
    "version": 3
   },
   "file_extension": ".py",
   "mimetype": "text/x-python",
   "name": "python",
   "nbconvert_exporter": "python",
   "pygments_lexer": "ipython3",
   "version": "3.7.1"
  }
 },
 "nbformat": 4,
 "nbformat_minor": 2
}
