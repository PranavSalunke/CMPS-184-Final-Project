{
 "cells": [
  {
   "cell_type": "code",
   "execution_count": 20,
   "metadata": {},
   "outputs": [],
   "source": [
    "#visualizing population\n",
    "\n",
    "import pandas as pd\n",
    "from bokeh.plotting import figure, output_file, show\n",
    "\n",
    "def graph_pop(variant, country_name, group=\"Total\"):\n",
    "\n",
    "    filename = \"data/TotalPopulation_%s.csv\" % (variant)\n",
    "\n",
    "    cf = pd.read_csv(filename)\n",
    "    # Get the headers with the years\n",
    "    headers = list(cf.columns.values)[3:]\n",
    "    # choose your country\n",
    "    country = cf.loc[cf[\"Location\"]==country_name]\n",
    "    # choose the \"total\" row, extracting the years and making it into a list\n",
    "    pops = country.loc[country[\"Group\"]==group][headers].values.tolist()[0]\n",
    "    # from string to float\n",
    "    pops = list(map(float, pops))\n",
    "\n",
    "    # create a new plot with a datetime axis type\n",
    "    p = figure(plot_width=800, plot_height=250,title=\"%s %s %s\" % (variant, country_name, group))\n",
    "\n",
    "    # make a line graph with the x-axis = header, y = pops, color of the lineis navy, and transparency is 0.5\n",
    "    p.line(headers, pops, color='navy', alpha=0.5)\n",
    "    p.xaxis.axis_label = \"Year\"\n",
    "    p.yaxis.axis_label = \"Population in thousands\"\n",
    "\n",
    "    show(p)"
   ]
  },
  {
   "cell_type": "code",
   "execution_count": 21,
   "metadata": {},
   "outputs": [],
   "source": [
    "graph_pop(\"Medium\", \"China\")"
   ]
  },
  {
   "cell_type": "code",
   "execution_count": null,
   "metadata": {},
   "outputs": [],
   "source": []
  }
 ],
 "metadata": {
  "kernelspec": {
   "display_name": "Python 3",
   "language": "python",
   "name": "python3"
  }
 },
 "nbformat": 4,
 "nbformat_minor": 2
}
