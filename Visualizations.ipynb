{
 "cells": [
  {
   "cell_type": "code",
   "execution_count": null,
   "metadata": {},
   "outputs": [],
   "source": [
    "#visualizing population\n",
    "\n",
    "import pandas as pd\n",
    "from bokeh.plotting import figure, output_file, show\n",
    "\n",
    "def graph_pop(variant, country_name, group=\"Total\"):\n",
    "\n",
    "    filename = \"data/TotalPopulation_%s.csv\" % (variant)\n",
    "\n",
    "    cf = pd.read_csv(filename)\n",
    "    # Get the headers with the years\n",
    "    headers = list(cf.columns.values)[3:]\n",
    "#     print(headers)\n",
    "    # choose your country\n",
    "    country = cf.loc[cf[\"Location\"]==country_name]\n",
    "    # choose the \"total\" row, extracting the years and making it into a list\n",
    "    pops = country.loc[country[\"Group\"]==group][headers].values.tolist()[0]\n",
    "    # from string to float\n",
    "    pops = list(map(float, pops))\n",
    "#     print(pops)\n",
    "\n",
    "    # create a new plot with a datetime axis type\n",
    "    p = figure(plot_width=800, plot_height=250,title=\"%s %s %s\" % (variant, country_name, group))\n",
    "\n",
    "    # make a line graph with the x-axis = header, y = pops, color of the lineis navy, and transparency is 0.5\n",
    "    p.line(headers, pops, color='navy', alpha=0.5)\n",
    "    p.xaxis.axis_label = \"Year\"\n",
    "    p.yaxis.axis_label = \"Population in thousands\"\n",
    "\n",
    "    show(p)"
   ]
  },
  {
   "cell_type": "code",
   "execution_count": null,
   "metadata": {},
   "outputs": [],
   "source": [
    "graph_pop(\"Medium\", \"China\")"
   ]
  },
  {
   "cell_type": "code",
   "execution_count": 42,
   "metadata": {},
   "outputs": [],
   "source": [
    "#visualizing population\n",
    "import re\n",
    "import random\n",
    "import pandas as pd\n",
    "import bokeh.resources\n",
    "from bokeh.models import Legend\n",
    "from bokeh.palettes import Set3\n",
    "from bokeh.layouts import row, column\n",
    "from bokeh.models import CustomJS, Slider\n",
    "from bokeh.plotting import figure, output_file, show, ColumnDataSource\n",
    "\n",
    "def graph_fert(variant, country_names):\n",
    "    # Get the file based on the variant we get\n",
    "    to_replace = r'[ -]'\n",
    "    variant_fn = re.sub(to_replace, \"\", variant.capitalize())\n",
    "    filename = \"data/Fertility_%s.csv\" % (variant_fn)\n",
    "\n",
    "    cf = pd.read_csv(filename)\n",
    "    # header_list is the list of the years as in the csv vile\n",
    "    header_list = list(cf.columns.values)[5:]\n",
    "\n",
    "    # the headers list is a list of the first year so the plot can be made\n",
    "    # (if we don't do this, the plot will show up empty)\n",
    "    headers = []\n",
    "    for each in header_list:\n",
    "        headers.append(each[:4])\n",
    "    headers = list(map(float,headers))\n",
    "    # create a new plot with a datetime axis type\n",
    "#     p = figure(plot_width=800, plot_height=400,title=\"%s %s\" % (variant.capitalize(), country_name))\n",
    "    p = figure(plot_width=800, plot_height=400,title=\"%s\" % (variant.capitalize()))\n",
    "    p.xaxis.axis_label = \"Year\"\n",
    "    p.yaxis.axis_label = \"Fertility Rate\"\n",
    "    output_file(\"styling_legend_title.html\", title=\"fertility vs year plot\")\n",
    "#     p.legend.location = \"top_left\"\n",
    "    p.legend.title = 'Countries'\n",
    "    p.legend.title_text_font_style = \"bold\"\n",
    "    p.legend.title_text_font_size = \"15pt\"\n",
    "    \n",
    "\n",
    "    all_countries = cf.Location\n",
    "    color_set= Set3[12]\n",
    "    \n",
    "    for name in all_countries:\n",
    "        # choose your country and get all the fertility rate values of that country for all the years\n",
    "        fert = cf.loc[cf[\"Location\"]==name][header_list].values.tolist()[0]\n",
    "        fert = list(map(float,fert))\n",
    "\n",
    "        if(name in country_names):\n",
    "            num = random.randint(0,11)\n",
    "            color = color_set[num]\n",
    "            p.line(headers, fert, color=color, alpha=1,legend=name, line_width=3)\n",
    "\n",
    "        else:\n",
    "            color = \"#C0C0C0\"\n",
    "            # # make a line graph with the x-axis = header, y = pops, color of the lineis navy, and transparency is 0.5\n",
    "            p.line(headers, fert, color=color, alpha=0.2, line_width=1)\n",
    "    show(p)"
   ]
  },
  {
   "cell_type": "code",
   "execution_count": 43,
   "metadata": {},
   "outputs": [],
   "source": [
    "graph_fert(\"ESTIMATES\", [\"China\", \"Chile\"])"
   ]
  },
  {
   "cell_type": "code",
   "execution_count": null,
   "metadata": {},
   "outputs": [],
   "source": []
  }
 ],
 "metadata": {
  "kernelspec": {
   "display_name": "Python 3",
   "language": "python",
   "name": "python3"
  },
  "language_info": {
   "codemirror_mode": {
    "name": "ipython",
    "version": 3
   },
   "file_extension": ".py",
   "mimetype": "text/x-python",
   "name": "python",
   "nbconvert_exporter": "python",
   "pygments_lexer": "ipython3",
   "version": "3.7.1"
  }
 },
 "nbformat": 4,
 "nbformat_minor": 2
}
