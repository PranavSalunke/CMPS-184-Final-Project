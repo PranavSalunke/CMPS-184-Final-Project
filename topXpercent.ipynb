{
 "cells": [
  {
   "cell_type": "code",
   "execution_count": 136,
   "metadata": {},
   "outputs": [
    {
     "name": "stdout",
     "output_type": "stream",
     "text": [
      "top cumulative locations: \n",
      "    countries Location         2020   Percent\n",
      "28     China    China  1424548.266  0.182740\n",
      "60     India    India  1383197.753  0.177436\n"
     ]
    }
   ],
   "source": [
    "import pandas as pd\n",
    "import re\n",
    "\n",
    "# the top locations that make up targetPercent of the worlds population for the given year\n",
    "# data taken from the given file (assumed to be the output of the reformated population data)\n",
    "# populations are in thousands\n",
    "\n",
    "fileName = \"data/TotalPopulation_Medium.csv\"\n",
    "year = \"2020\"\n",
    "targetPercent = 0.5  # 0 to 1\n",
    "\n",
    "popDF = pd.read_csv(fileName)\n",
    "\n",
    "# extract the totals per country from the data\n",
    "yearData = popDF[[\"Location\", \"Group\", year]]\n",
    "yearTotals = yearData.loc[yearData[\"Group\"] == \"Total\"][[\"Location\", year]]  # a DF with the location and its total population for the year given\n",
    "# print(yearTotals)\n",
    "\n",
    "# extract the world total\n",
    "worldTotal = yearTotals.loc[yearTotals[\"Location\"] == \"World\"][year].item()  # get the total world population for the year as given by the data\n",
    "# print(worldTotal)\n",
    "\n",
    "# remove all non-country locations\n",
    "#----------------------------------Start Melanie's edits ---------------------------------\n",
    "#Remove bad characters and unwanted spaces\n",
    "\n",
    "with open(\"country_list.csv\") as country_list:\n",
    "    countries_file = country_list.read()\n",
    "    \n",
    "countries = re.sub('[^a-zA-Z\\s]', '', countries_file).split()\n",
    "countriesDF = pd.DataFrame(data = {\"countries\": countries})\n",
    "# print(countriesDF.countries)\n",
    "\n",
    "#make a common dataframe that has only countries and removes non-countries, dropping na values\n",
    "common = countriesDF.merge(yearTotals, how='inner', left_on=['countries'], right_on=['Location'])\n",
    "common = common.dropna()\n",
    "# print(common)\n",
    "# common = common.drop(['Location'], axis=1)\n",
    "# print(common)\n",
    "#----------------------------------End Melanie's edits ---------------------------------\n",
    "\n",
    "\n",
    "# find the percent of the world's total by location and add a column with that\n",
    "# yearTotals[\"Percent\"] = yearTotals[year]/worldTotal\n",
    "common[\"Percent\"] = common[\"2020\"]/worldTotal\n",
    "\n",
    "# sort by percent of world population\n",
    "# yearTotals.sort_values(by=[\"Percent\"], ascending=False, inplace=True)\n",
    "common.sort_values(by=[\"Percent\"], ascending=False, inplace=True)\n",
    "# print(\"year totals: \",yearTotals)\n",
    "\n",
    "# the locations whos population is greater than targetPercent\n",
    "# topLocations = yearTotals.loc[yearTotals[\"Percent\"] > targetPercent]\n",
    "topLocations = common.loc[common[\"Percent\"] > targetPercent]\n",
    "\n",
    "# print(\"top locations: \",topLocations)\n",
    "\n",
    "# finds the indexes of the locations that collectively make up targetPercent of the world's population\n",
    "topIndexes = []\n",
    "cumsum = 0\n",
    "# for index, series in yearTotals.iterrows():\n",
    "for index, series in common.iterrows():\n",
    "    cumsum += series[year]\n",
    "    if cumsum/worldTotal > targetPercent:\n",
    "        # print(topIndexes)\n",
    "        break\n",
    "    topIndexes.append(index)\n",
    "\n",
    "# create data frame using the indexes from above (top locations using the cumulative sum)\n",
    "# topCumLocations = yearTotals.loc[topIndexes]\n",
    "topCumLocations = common.loc[topIndexes]\n",
    "\n",
    "print(\"top cumulative locations: \\n\",topCumLocations)\n"
   ]
  },
  {
   "cell_type": "code",
   "execution_count": null,
   "metadata": {},
   "outputs": [],
   "source": []
  }
 ],
 "metadata": {
  "kernelspec": {
   "display_name": "Python 3",
   "language": "python",
   "name": "python3"
  },
  "language_info": {
   "codemirror_mode": {
    "name": "ipython",
    "version": 3
   },
   "file_extension": ".py",
   "mimetype": "text/x-python",
   "name": "python",
   "nbconvert_exporter": "python",
   "pygments_lexer": "ipython3",
   "version": "3.7.1"
  }
 },
 "nbformat": 4,
 "nbformat_minor": 2
}
